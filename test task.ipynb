{
 "cells": [
  {
   "cell_type": "markdown",
   "metadata": {},
   "source": [
    "### Загружаю библиотеки и таблицы"
   ]
  },
  {
   "cell_type": "code",
   "execution_count": 1,
   "metadata": {},
   "outputs": [],
   "source": [
    "import pandas as pd\n",
    "pd.options.display.float_format = '{0:.15g}'.format\n",
    "import seaborn as sns\n",
    "from tqdm import tqdm\n",
    "import numpy as np"
   ]
  },
  {
   "cell_type": "code",
   "execution_count": 2,
   "metadata": {
    "scrolled": true
   },
   "outputs": [
    {
     "data": {
      "text/html": [
       "<div>\n",
       "<style scoped>\n",
       "    .dataframe tbody tr th:only-of-type {\n",
       "        vertical-align: middle;\n",
       "    }\n",
       "\n",
       "    .dataframe tbody tr th {\n",
       "        vertical-align: top;\n",
       "    }\n",
       "\n",
       "    .dataframe thead th {\n",
       "        text-align: right;\n",
       "    }\n",
       "</style>\n",
       "<table border=\"1\" class=\"dataframe\">\n",
       "  <thead>\n",
       "    <tr style=\"text-align: right;\">\n",
       "      <th></th>\n",
       "      <th>address_id</th>\n",
       "      <th>cluster_id</th>\n",
       "    </tr>\n",
       "  </thead>\n",
       "  <tbody>\n",
       "    <tr>\n",
       "      <th>0</th>\n",
       "      <td>71413451</td>\n",
       "      <td>1</td>\n",
       "    </tr>\n",
       "    <tr>\n",
       "      <th>1</th>\n",
       "      <td>71411914</td>\n",
       "      <td>1</td>\n",
       "    </tr>\n",
       "    <tr>\n",
       "      <th>2</th>\n",
       "      <td>71410369</td>\n",
       "      <td>1</td>\n",
       "    </tr>\n",
       "    <tr>\n",
       "      <th>3</th>\n",
       "      <td>71410100</td>\n",
       "      <td>1</td>\n",
       "    </tr>\n",
       "    <tr>\n",
       "      <th>4</th>\n",
       "      <td>71410040</td>\n",
       "      <td>1</td>\n",
       "    </tr>\n",
       "  </tbody>\n",
       "</table>\n",
       "</div>"
      ],
      "text/plain": [
       "   address_id  cluster_id\n",
       "0    71413451           1\n",
       "1    71411914           1\n",
       "2    71410369           1\n",
       "3    71410100           1\n",
       "4    71410040           1"
      ]
     },
     "execution_count": 2,
     "metadata": {},
     "output_type": "execute_result"
    }
   ],
   "source": [
    "address_clust = pd.read_csv('c:/users/tyuio/address_clust.csv')\n",
    "address_clust.head()"
   ]
  },
  {
   "cell_type": "code",
   "execution_count": 3,
   "metadata": {
    "scrolled": false
   },
   "outputs": [
    {
     "data": {
      "text/html": [
       "<div>\n",
       "<style scoped>\n",
       "    .dataframe tbody tr th:only-of-type {\n",
       "        vertical-align: middle;\n",
       "    }\n",
       "\n",
       "    .dataframe tbody tr th {\n",
       "        vertical-align: top;\n",
       "    }\n",
       "\n",
       "    .dataframe thead th {\n",
       "        text-align: right;\n",
       "    }\n",
       "</style>\n",
       "<table border=\"1\" class=\"dataframe\">\n",
       "  <thead>\n",
       "    <tr style=\"text-align: right;\">\n",
       "      <th></th>\n",
       "      <th>id</th>\n",
       "      <th>address_id</th>\n",
       "      <th>transaction_id</th>\n",
       "      <th>received</th>\n",
       "      <th>sent</th>\n",
       "    </tr>\n",
       "  </thead>\n",
       "  <tbody>\n",
       "    <tr>\n",
       "      <th>0</th>\n",
       "      <td>87134765</td>\n",
       "      <td>46402336</td>\n",
       "      <td>19162323</td>\n",
       "      <td>0</td>\n",
       "      <td>1800000</td>\n",
       "    </tr>\n",
       "    <tr>\n",
       "      <th>1</th>\n",
       "      <td>87134766</td>\n",
       "      <td>45919235</td>\n",
       "      <td>19162323</td>\n",
       "      <td>0</td>\n",
       "      <td>1071052</td>\n",
       "    </tr>\n",
       "    <tr>\n",
       "      <th>2</th>\n",
       "      <td>87134767</td>\n",
       "      <td>46529090</td>\n",
       "      <td>19162323</td>\n",
       "      <td>1000000</td>\n",
       "      <td>0</td>\n",
       "    </tr>\n",
       "    <tr>\n",
       "      <th>3</th>\n",
       "      <td>87134768</td>\n",
       "      <td>46529091</td>\n",
       "      <td>19162323</td>\n",
       "      <td>1821052</td>\n",
       "      <td>0</td>\n",
       "    </tr>\n",
       "    <tr>\n",
       "      <th>4</th>\n",
       "      <td>87154706</td>\n",
       "      <td>46529090</td>\n",
       "      <td>19166856</td>\n",
       "      <td>0</td>\n",
       "      <td>1000000</td>\n",
       "    </tr>\n",
       "  </tbody>\n",
       "</table>\n",
       "</div>"
      ],
      "text/plain": [
       "         id  address_id  transaction_id  received    sent\n",
       "0  87134765    46402336        19162323         0 1800000\n",
       "1  87134766    45919235        19162323         0 1071052\n",
       "2  87134767    46529090        19162323   1000000       0\n",
       "3  87134768    46529091        19162323   1821052       0\n",
       "4  87154706    46529090        19166856         0 1000000"
      ]
     },
     "execution_count": 3,
     "metadata": {},
     "output_type": "execute_result"
    }
   ],
   "source": [
    "address_stats = pd.read_csv('c:/users/tyuio/address_stats.csv')\n",
    "address_stats.head()"
   ]
  },
  {
   "cell_type": "markdown",
   "metadata": {},
   "source": [
    "### Соединяю, заполняю налы"
   ]
  },
  {
   "cell_type": "code",
   "execution_count": 4,
   "metadata": {},
   "outputs": [],
   "source": [
    "result = pd.merge(address_clust, address_stats, on='address_id', how = 'outer')"
   ]
  },
  {
   "cell_type": "code",
   "execution_count": 5,
   "metadata": {
    "scrolled": true
   },
   "outputs": [],
   "source": [
    "result = result.fillna(0)"
   ]
  },
  {
   "cell_type": "code",
   "execution_count": 6,
   "metadata": {},
   "outputs": [],
   "source": [
    "result = result.set_index('id')"
   ]
  },
  {
   "cell_type": "markdown",
   "metadata": {},
   "source": [
    "### Группирую для простоты работы"
   ]
  },
  {
   "cell_type": "code",
   "execution_count": 7,
   "metadata": {},
   "outputs": [],
   "source": [
    "Trans_groups = result.groupby('transaction_id')"
   ]
  },
  {
   "cell_type": "markdown",
   "metadata": {},
   "source": [
    "### Словарь для хранения сумм переводов"
   ]
  },
  {
   "cell_type": "code",
   "execution_count": 8,
   "metadata": {},
   "outputs": [],
   "source": [
    "Dict = {'Кластер 0 отправил в кластер 1:': 0,\n",
    "        'Кластер 1 отправил в кластер 0:': 0,\n",
    "        'Кластер 2 отправил в кластер 0:': 0,\n",
    "        'Кластер 0 отправил в кластер 2:': 0,\n",
    "        'Кластер 1 отправил в кластер 2:': 0,\n",
    "        'Кластер 2 отправил в кластер 1:': 0}"
   ]
  },
  {
   "cell_type": "markdown",
   "metadata": {},
   "source": [
    "### Маленькая функция"
   ]
  },
  {
   "cell_type": "code",
   "execution_count": 9,
   "metadata": {},
   "outputs": [],
   "source": [
    "def update_dictionary(d, key, value):\n",
    "    d[key] += value"
   ]
  },
  {
   "cell_type": "markdown",
   "metadata": {},
   "source": [
    "### Цикл для отлова переводов между кластерами"
   ]
  },
  {
   "cell_type": "code",
   "execution_count": 10,
   "metadata": {},
   "outputs": [
    {
     "name": "stderr",
     "output_type": "stream",
     "text": [
      "100%|███████████████████████████████████████████████████████████████████████████| 13753/13753 [02:12<00:00, 103.87it/s]\n"
     ]
    }
   ],
   "source": [
    "for i in tqdm(Trans_groups.groups.keys()):\n",
    "    x = Trans_groups.get_group(i).sort_values('id')\n",
    "    for i in range(x.shape[0]):\n",
    "        if x.iloc[i]['sent'] != 0:\n",
    "            flag_sender = int(x.iloc[i]['cluster_id'])\n",
    "        else:\n",
    "            continue\n",
    "        break\n",
    "    summ_sent = 0\n",
    "    summ_received = 0\n",
    "    flag_receiver = np.nan\n",
    "    summ_received_inside_cluster = 0\n",
    "    for i in range(x.shape[0]):\n",
    "        if x.iloc[i]['sent'] != 0 and x.iloc[i]['cluster_id'] == flag_sender:\n",
    "            summ_sent += x.iloc[i]['sent']\n",
    "        elif x.iloc[i]['received'] != 0 and x.iloc[i]['cluster_id'] != flag_sender or x.iloc[i]['cluster_id'] == flag_receiver:\n",
    "            summ_received = x.iloc[i]['received']\n",
    "            flag_receiver = x.iloc[i]['cluster_id']\n",
    "            if flag_receiver == 1 and flag_sender == 0:\n",
    "                update_dictionary(Dict, 'Кластер 0 отправил в кластер 1:', summ_received/10**8)\n",
    "            elif flag_receiver == 0 and flag_sender == 1:\n",
    "                update_dictionary(Dict, 'Кластер 1 отправил в кластер 0:', summ_received/10**8)\n",
    "            elif flag_receiver == 2 and flag_sender == 1:\n",
    "                update_dictionary(Dict, 'Кластер 1 отправил в кластер 2:', summ_received/10**8)\n",
    "            elif flag_receiver == 1 and flag_sender == 2:\n",
    "                update_dictionary(Dict, 'Кластер 2 отправил в кластер 1:', summ_received/10**8)\n",
    "            elif flag_receiver == 2 and flag_sender == 0:\n",
    "                update_dictionary(Dict, 'Кластер 0 отправил в кластер 2:', summ_received/10**8)\n",
    "            elif flag_receiver == 0 and flag_sender == 2:\n",
    "                    update_dictionary(Dict, 'Кластер 2 отправил в кластер 0:', summ_received/10**8)                \n",
    "        elif x.iloc[i]['received'] != 0 and flag_sender == x.iloc[i]['cluster_id']:\n",
    "            summ_received_inside_cluster += x.iloc[i]['received']\n"
   ]
  },
  {
   "cell_type": "markdown",
   "metadata": {},
   "source": [
    "# Новые данные"
   ]
  },
  {
   "cell_type": "code",
   "execution_count": 11,
   "metadata": {},
   "outputs": [
    {
     "data": {
      "text/plain": [
       "{'Кластер 0 отправил в кластер 1:': 297.1196838799924,\n",
       " 'Кластер 1 отправил в кластер 0:': 300.55392887999847,\n",
       " 'Кластер 2 отправил в кластер 0:': 4.869840000000003,\n",
       " 'Кластер 0 отправил в кластер 2:': 9.740138609999246,\n",
       " 'Кластер 1 отправил в кластер 2:': 129.2432399999996,\n",
       " 'Кластер 2 отправил в кластер 1:': 135.82000000000397}"
      ]
     },
     "execution_count": 11,
     "metadata": {},
     "output_type": "execute_result"
    }
   ],
   "source": [
    "Dict"
   ]
  },
  {
   "cell_type": "markdown",
   "metadata": {},
   "source": [
    "### Некорректные данные (старые)\n",
    "Кластер 0 отправил в кластер 1: 292.98638548 биткоинов<br />\n",
    "Кластер 1 отправил в кластер 0: 325.3799055 биткоинов<br />\n",
    "Кластер 2 отправил в кластер 0: 3.58116 биткоинов<br />\n",
    "Кластер 0 отправил в кластер 2: 13.87343701 биткоинов<br />\n",
    "Кластер 1 отправил в кластер 2: 104.41726338 биткоинов<br />\n",
    "Кластер 2 отправил в кластер 1: 137.10868 биткоинов<br />"
   ]
  },
  {
   "cell_type": "markdown",
   "metadata": {},
   "source": [
    "### Размер fee в биткоинах общая неправильная"
   ]
  },
  {
   "cell_type": "markdown",
   "metadata": {},
   "source": [
    "<img src=\"https://cdn.shopify.com/s/files/1/1746/9141/products/Under_Construction_Tape.png?v=1557281843\" alt=\"Italian Trulli\">"
   ]
  },
  {
   "cell_type": "code",
   "execution_count": 12,
   "metadata": {},
   "outputs": [],
   "source": [
    "fee = (Trans_groups.agg('sum')['received'] - Trans_groups.agg('sum')['sent']).abs()"
   ]
  },
  {
   "cell_type": "code",
   "execution_count": 13,
   "metadata": {
    "scrolled": true
   },
   "outputs": [
    {
     "data": {
      "text/plain": [
       "2.36441506"
      ]
     },
     "execution_count": 13,
     "metadata": {},
     "output_type": "execute_result"
    }
   ],
   "source": [
    "fee.sum()/10**8"
   ]
  }
 ],
 "metadata": {
  "kernelspec": {
   "display_name": "Python 3",
   "language": "python",
   "name": "python3"
  },
  "language_info": {
   "codemirror_mode": {
    "name": "ipython",
    "version": 3
   },
   "file_extension": ".py",
   "mimetype": "text/x-python",
   "name": "python",
   "nbconvert_exporter": "python",
   "pygments_lexer": "ipython3",
   "version": "3.7.3"
  },
  "varInspector": {
   "cols": {
    "lenName": 16,
    "lenType": 16,
    "lenVar": 40
   },
   "kernels_config": {
    "python": {
     "delete_cmd_postfix": "",
     "delete_cmd_prefix": "del ",
     "library": "var_list.py",
     "varRefreshCmd": "print(var_dic_list())"
    },
    "r": {
     "delete_cmd_postfix": ") ",
     "delete_cmd_prefix": "rm(",
     "library": "var_list.r",
     "varRefreshCmd": "cat(var_dic_list()) "
    }
   },
   "types_to_exclude": [
    "module",
    "function",
    "builtin_function_or_method",
    "instance",
    "_Feature"
   ],
   "window_display": false
  }
 },
 "nbformat": 4,
 "nbformat_minor": 2
}
